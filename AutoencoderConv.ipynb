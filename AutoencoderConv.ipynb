{
 "cells": [
  {
   "cell_type": "code",
   "execution_count": 1,
   "id": "8704ae28",
   "metadata": {},
   "outputs": [],
   "source": [
    "import tensorflow as tf\n",
    "import keras\n",
    "from keras import layers\n",
    "from keras import regularizers\n",
    "from keras.datasets import mnist\n",
    "from keras.callbacks import TensorBoard\n",
    "import numpy as np\n",
    "import matplotlib.pyplot as plt"
   ]
  },
  {
   "cell_type": "code",
   "execution_count": 2,
   "id": "982f178d",
   "metadata": {},
   "outputs": [],
   "source": [
    "img = keras.Input(shape = (28, 28, 1))\n",
    "\n",
    "x = layers.Conv2D(16, (3, 3), activation = 'relu', padding = 'same')(img)\n",
    "x = layers.MaxPooling2D((2, 2), padding = 'same')(x)\n",
    "x = layers.Conv2D(8, (3, 3), activation='relu', padding='same')(x)\n",
    "x = layers.MaxPooling2D((2, 2), padding='same')(x)\n",
    "x = layers.Conv2D(8, (3, 3), activation='relu', padding='same')(x)\n",
    "enc = layers.MaxPooling2D((2, 2), padding = 'same')(x)\n",
    "\n",
    "x = layers.Conv2D(8, (3, 3), activation='relu', padding='same')(enc)\n",
    "x = layers.UpSampling2D((2, 2))(x)\n",
    "x = layers.Conv2D(8, (3, 3), activation='relu', padding='same')(x)\n",
    "x = layers.UpSampling2D((2, 2))(x)\n",
    "x = layers.Conv2D(16, (3, 3), activation='relu')(x)\n",
    "x = layers.UpSampling2D((2, 2))(x)\n",
    "dec = layers.Conv2D(1, (3, 3), activation='sigmoid', padding='same')(x)\n",
    "\n",
    "autoencoder = keras.Model(img, dec)\n",
    "autoencoder.compile(optimizer = 'adam', loss = 'binary_crossentropy')"
   ]
  },
  {
   "cell_type": "code",
   "execution_count": 3,
   "id": "98aa2408",
   "metadata": {},
   "outputs": [],
   "source": [
    "(xtrain,_), (xtest,_) = mnist.load_data()\n",
    "xtrain = xtrain.astype('float32')/255\n",
    "xtest = xtest.astype('float32')/255\n",
    "xtrain = np.reshape(xtrain, (len(xtrain), 28, 28, 1))\n",
    "xtest = np.reshape(xtest, (len(xtest), 28, 28, 1))"
   ]
  },
  {
   "cell_type": "code",
   "execution_count": 4,
   "id": "28c425c9",
   "metadata": {},
   "outputs": [
    {
     "name": "stdout",
     "output_type": "stream",
     "text": [
      "Epoch 1/50\n",
      "469/469 [==============================] - 32s 67ms/step - loss: 0.2134 - val_loss: 0.1489\n",
      "Epoch 2/50\n",
      "469/469 [==============================] - 30s 63ms/step - loss: 0.1377 - val_loss: 0.1271\n",
      "Epoch 3/50\n",
      "469/469 [==============================] - 29s 62ms/step - loss: 0.1230 - val_loss: 0.1177\n",
      "Epoch 4/50\n",
      "469/469 [==============================] - 29s 62ms/step - loss: 0.1162 - val_loss: 0.1127\n",
      "Epoch 5/50\n",
      "469/469 [==============================] - 29s 62ms/step - loss: 0.1120 - val_loss: 0.1092\n",
      "Epoch 6/50\n",
      "469/469 [==============================] - 29s 62ms/step - loss: 0.1093 - val_loss: 0.1072\n",
      "Epoch 7/50\n",
      "469/469 [==============================] - 30s 63ms/step - loss: 0.1073 - val_loss: 0.1051\n",
      "Epoch 8/50\n",
      "469/469 [==============================] - 29s 62ms/step - loss: 0.1055 - val_loss: 0.1039\n",
      "Epoch 9/50\n",
      "469/469 [==============================] - 34s 71ms/step - loss: 0.1042 - val_loss: 0.1027\n",
      "Epoch 10/50\n",
      "469/469 [==============================] - 35s 74ms/step - loss: 0.1030 - val_loss: 0.1016\n",
      "Epoch 11/50\n",
      "469/469 [==============================] - 33s 71ms/step - loss: 0.1019 - val_loss: 0.1002\n",
      "Epoch 12/50\n",
      "469/469 [==============================] - 35s 74ms/step - loss: 0.1009 - val_loss: 0.0992\n",
      "Epoch 13/50\n",
      "469/469 [==============================] - 36s 77ms/step - loss: 0.1000 - val_loss: 0.0985\n",
      "Epoch 14/50\n",
      "469/469 [==============================] - 36s 77ms/step - loss: 0.0990 - val_loss: 0.0981\n",
      "Epoch 15/50\n",
      "469/469 [==============================] - 35s 75ms/step - loss: 0.0983 - val_loss: 0.0966\n",
      "Epoch 16/50\n",
      "469/469 [==============================] - 38s 81ms/step - loss: 0.0975 - val_loss: 0.0961\n",
      "Epoch 17/50\n",
      "469/469 [==============================] - 34s 72ms/step - loss: 0.0969 - val_loss: 0.0958\n",
      "Epoch 18/50\n",
      "469/469 [==============================] - 36s 77ms/step - loss: 0.0963 - val_loss: 0.0949\n",
      "Epoch 19/50\n",
      "469/469 [==============================] - 35s 75ms/step - loss: 0.0957 - val_loss: 0.0943\n",
      "Epoch 20/50\n",
      "469/469 [==============================] - 33s 71ms/step - loss: 0.0953 - val_loss: 0.0944\n",
      "Epoch 21/50\n",
      "469/469 [==============================] - 34s 72ms/step - loss: 0.0949 - val_loss: 0.0942\n",
      "Epoch 22/50\n",
      "469/469 [==============================] - 34s 72ms/step - loss: 0.0944 - val_loss: 0.0932\n",
      "Epoch 23/50\n",
      "469/469 [==============================] - 37s 78ms/step - loss: 0.0941 - val_loss: 0.0928\n",
      "Epoch 24/50\n",
      "469/469 [==============================] - 33s 70ms/step - loss: 0.0937 - val_loss: 0.0923\n",
      "Epoch 25/50\n",
      "469/469 [==============================] - 38s 80ms/step - loss: 0.0934 - val_loss: 0.0921\n",
      "Epoch 26/50\n",
      "469/469 [==============================] - 36s 78ms/step - loss: 0.0932 - val_loss: 0.0923\n",
      "Epoch 27/50\n",
      "469/469 [==============================] - 36s 77ms/step - loss: 0.0930 - val_loss: 0.0916\n",
      "Epoch 28/50\n",
      "469/469 [==============================] - 39s 82ms/step - loss: 0.0927 - val_loss: 0.0918\n",
      "Epoch 29/50\n",
      "469/469 [==============================] - 37s 78ms/step - loss: 0.0925 - val_loss: 0.0910\n",
      "Epoch 30/50\n",
      "469/469 [==============================] - 36s 77ms/step - loss: 0.0923 - val_loss: 0.0918\n",
      "Epoch 31/50\n",
      "469/469 [==============================] - 38s 80ms/step - loss: 0.0921 - val_loss: 0.0907\n",
      "Epoch 32/50\n",
      "469/469 [==============================] - 34s 72ms/step - loss: 0.0919 - val_loss: 0.0906\n",
      "Epoch 33/50\n",
      "469/469 [==============================] - 33s 71ms/step - loss: 0.0918 - val_loss: 0.0904\n",
      "Epoch 34/50\n",
      "469/469 [==============================] - 35s 75ms/step - loss: 0.0915 - val_loss: 0.0902\n",
      "Epoch 35/50\n",
      "469/469 [==============================] - 36s 77ms/step - loss: 0.0914 - val_loss: 0.0905\n",
      "Epoch 36/50\n",
      "469/469 [==============================] - 37s 79ms/step - loss: 0.0913 - val_loss: 0.0900\n",
      "Epoch 37/50\n",
      "469/469 [==============================] - 36s 77ms/step - loss: 0.0912 - val_loss: 0.0899\n",
      "Epoch 38/50\n",
      "469/469 [==============================] - 35s 74ms/step - loss: 0.0910 - val_loss: 0.0901\n",
      "Epoch 39/50\n",
      "469/469 [==============================] - 35s 75ms/step - loss: 0.0908 - val_loss: 0.0898\n",
      "Epoch 40/50\n",
      "469/469 [==============================] - 37s 78ms/step - loss: 0.0907 - val_loss: 0.0894\n",
      "Epoch 41/50\n",
      "469/469 [==============================] - 33s 70ms/step - loss: 0.0906 - val_loss: 0.0897\n",
      "Epoch 42/50\n",
      "469/469 [==============================] - 34s 73ms/step - loss: 0.0905 - val_loss: 0.0892\n",
      "Epoch 43/50\n",
      "469/469 [==============================] - 35s 74ms/step - loss: 0.0904 - val_loss: 0.0891\n",
      "Epoch 44/50\n",
      "469/469 [==============================] - 38s 82ms/step - loss: 0.0903 - val_loss: 0.0893\n",
      "Epoch 45/50\n",
      "469/469 [==============================] - 36s 77ms/step - loss: 0.0902 - val_loss: 0.0890\n",
      "Epoch 46/50\n",
      "469/469 [==============================] - 35s 74ms/step - loss: 0.0901 - val_loss: 0.0891\n",
      "Epoch 47/50\n",
      "469/469 [==============================] - 36s 77ms/step - loss: 0.0899 - val_loss: 0.0899\n",
      "Epoch 48/50\n",
      "469/469 [==============================] - 35s 75ms/step - loss: 0.0899 - val_loss: 0.0886\n",
      "Epoch 49/50\n",
      "469/469 [==============================] - 36s 77ms/step - loss: 0.0898 - val_loss: 0.0885\n",
      "Epoch 50/50\n",
      "469/469 [==============================] - 34s 71ms/step - loss: 0.0897 - val_loss: 0.0889\n"
     ]
    },
    {
     "data": {
      "text/plain": [
       "<keras.callbacks.History at 0x17584a3cc18>"
      ]
     },
     "execution_count": 4,
     "metadata": {},
     "output_type": "execute_result"
    }
   ],
   "source": [
    "autoencoder.fit(xtrain, xtrain, epochs = 50, batch_size = 128, shuffle = True, validation_data = (xtest, xtest),\n",
    "                callbacks = [TensorBoard(log_dir = '/tmp/autoencoder')])"
   ]
  },
  {
   "cell_type": "code",
   "execution_count": 5,
   "id": "df40fefd",
   "metadata": {},
   "outputs": [
    {
     "data": {
      "image/png": "[encoded data removed]",
      "text/plain": [
       "<Figure size 2160x288 with 30 Axes>"
      ]
     },
     "metadata": {
      "needs_background": "light"
     },
     "output_type": "display_data"
    }
   ],
   "source": [
    "decimgs = autoencoder.predict(xtest)\n",
    "\n",
    "n = 15\n",
    "plt.figure(figsize = (30, 4))\n",
    "for i in range(1, n+1):\n",
    "    ax = plt.subplot(2, n, i)\n",
    "    plt.imshow(xtest[i].reshape(28, 28))\n",
    "    plt.gray()\n",
    "    ax.get_xaxis().set_visible(False)\n",
    "    ax.get_yaxis().set_visible(False)\n",
    "\n",
    "    # Display reconstruction\n",
    "    ax = plt.subplot(2, n, i + n)\n",
    "    plt.imshow(decimgs[i].reshape(28, 28))\n",
    "    plt.gray()\n",
    "    ax.get_xaxis().set_visible(False)\n",
    "    ax.get_yaxis().set_visible(False)\n",
    "plt.show()"
   ]
  },
  {
   "cell_type": "code",
   "execution_count": null,
   "id": "fe693377",
   "metadata": {},
   "outputs": [],
   "source": []
  }
 ],
 "metadata": {
  "kernelspec": {
   "display_name": "Python 3",
   "language": "python",
   "name": "python3"
  },
  "language_info": {
   "codemirror_mode": {
    "name": "ipython",
    "version": 3
   },
   "file_extension": ".py",
   "mimetype": "text/x-python",
   "name": "python",
   "nbconvert_exporter": "python",
   "pygments_lexer": "ipython3",
   "version": "3.6.8"
  }
 },
 "nbformat": 4,
 "nbformat_minor": 5
}
